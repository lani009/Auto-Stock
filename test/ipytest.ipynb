{
 "metadata": {
  "language_info": {
   "codemirror_mode": {
    "name": "ipython",
    "version": 3
   },
   "file_extension": ".py",
   "mimetype": "text/x-python",
   "name": "python",
   "nbconvert_exporter": "python",
   "pygments_lexer": "ipython3",
   "version": "3.7.4-final"
  },
  "orig_nbformat": 2,
  "kernelspec": {
   "name": "python3",
   "display_name": "Python 3",
   "language": "python"
  }
 },
 "nbformat": 4,
 "nbformat_minor": 2,
 "cells": [
  {
   "cell_type": "code",
   "execution_count": 1,
   "metadata": {},
   "outputs": [],
   "source": [
    "from enum import Enum, auto\n",
    "\n",
    "\n",
    "class OfferStock(Enum):\n",
    "    BUYING = auto()\n",
    "    SELLING = auto()\n",
    "\n",
    "\n",
    "class CandleUnit(Enum):\n",
    "    TICK = auto()\n",
    "    SECOND = auto()\n",
    "    MINUIT = auto()\n",
    "    HOUR = auto()\n",
    "\n",
    "\n",
    "class RealTimeDataEnum(Enum):\n",
    "    CURRENT_PRICE = 10\n",
    "    VOLUME = 15\n",
    "    START_PRICE = 16\n",
    "    HIGH_PRICE = 17\n",
    "    LOW_PRICE = 18\n",
    "    ACCUMULATED_VOLUME = 13\n",
    "    MARKET_CAP = 311\n",
    "\n",
    "\n",
    "class TrCode(Enum):\n",
    "    OPT10080 = \"주식분봉차트조회요청\"\n",
    "    OPT10001 = \"주식기본정보요청\"\n"
   ]
  },
  {
   "cell_type": "code",
   "execution_count": 2,
   "metadata": {},
   "outputs": [],
   "source": [
    "a = \"\""
   ]
  },
  {
   "cell_type": "code",
   "execution_count": 3,
   "metadata": {},
   "outputs": [],
   "source": [
    "rtd = [RealTimeDataEnum.CURRENT_PRICE, RealTimeDataEnum.VOLUME, RealTimeDataEnum.START_PRICE]"
   ]
  },
  {
   "cell_type": "code",
   "execution_count": 4,
   "metadata": {},
   "outputs": [
    {
     "output_type": "execute_result",
     "data": {
      "text/plain": [
       "[<RealTimeDataEnum.CURRENT_PRICE: 10>,\n",
       " <RealTimeDataEnum.VOLUME: 15>,\n",
       " <RealTimeDataEnum.START_PRICE: 16>]"
      ]
     },
     "metadata": {},
     "execution_count": 4
    }
   ],
   "source": [
    "rtd"
   ]
  },
  {
   "cell_type": "code",
   "execution_count": 5,
   "metadata": {},
   "outputs": [
    {
     "output_type": "execute_result",
     "data": {
      "text/plain": [
       "'CURRENT_PRICE'"
      ]
     },
     "metadata": {},
     "execution_count": 5
    }
   ],
   "source": [
    "rtd[0].name"
   ]
  },
  {
   "cell_type": "code",
   "execution_count": 7,
   "metadata": {},
   "outputs": [
    {
     "output_type": "execute_result",
     "data": {
      "text/plain": [
       "'10;15;16'"
      ]
     },
     "metadata": {},
     "execution_count": 7
    }
   ],
   "source": [
    "\"\".join(\"{};\".format(fid.value) for fid in rtd)[:-1]"
   ]
  },
  {
   "cell_type": "code",
   "execution_count": null,
   "metadata": {},
   "outputs": [],
   "source": []
  }
 ]
}