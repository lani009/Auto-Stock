{
 "metadata": {
  "language_info": {
   "codemirror_mode": {
    "name": "ipython",
    "version": 3
   },
   "file_extension": ".py",
   "mimetype": "text/x-python",
   "name": "python",
   "nbconvert_exporter": "python",
   "pygments_lexer": "ipython3",
   "version": "3.7.9-final"
  },
  "orig_nbformat": 2,
  "kernelspec": {
   "name": "stock_37_64",
   "display_name": "stock_37_64",
   "language": "python"
  }
 },
 "nbformat": 4,
 "nbformat_minor": 2,
 "cells": [
  {
   "cell_type": "code",
   "execution_count": 1,
   "metadata": {},
   "outputs": [],
   "source": [
    "import sys\n",
    "sys.path.append(\"../\")"
   ]
  },
  {
   "cell_type": "code",
   "execution_count": 2,
   "metadata": {},
   "outputs": [],
   "source": [
    "from request.dao import Dao\n",
    "from PyQt5.QtWidgets import QApplication\n",
    "from pandas import DataFrame\n",
    "from entity.stock import Stock\n",
    "from request.enum.stockEnum import TrCode\n",
    "import time"
   ]
  },
  {
   "cell_type": "code",
   "execution_count": 3,
   "metadata": {},
   "outputs": [],
   "source": [
    "app = QApplication([])"
   ]
  },
  {
   "cell_type": "code",
   "execution_count": 4,
   "metadata": {},
   "outputs": [],
   "source": [
    "Dao().login()"
   ]
  },
  {
   "cell_type": "code",
   "execution_count": 5,
   "metadata": {},
   "outputs": [],
   "source": [
    "e_mart = Dao().request_stock_instance(\"009540\")"
   ]
  },
  {
   "cell_type": "code",
   "execution_count": 6,
   "metadata": {},
   "outputs": [
    {
     "output_type": "execute_result",
     "data": {
      "text/plain": [
       "'한국조선해양'"
      ]
     },
     "metadata": {},
     "execution_count": 6
    }
   ],
   "source": [
    "e_mart.get_str_name()"
   ]
  },
  {
   "cell_type": "code",
   "execution_count": 7,
   "metadata": {},
   "outputs": [
    {
     "output_type": "execute_result",
     "data": {
      "text/plain": [
       "'009540'"
      ]
     },
     "metadata": {},
     "execution_count": 7
    }
   ],
   "source": [
    "e_mart.get_code_name()"
   ]
  },
  {
   "cell_type": "code",
   "execution_count": 8,
   "metadata": {},
   "outputs": [],
   "source": [
    "cond = Dao().request_condition_list()"
   ]
  },
  {
   "cell_type": "code",
   "execution_count": 9,
   "metadata": {},
   "outputs": [
    {
     "output_type": "execute_result",
     "data": {
      "text/plain": [
       "[['000', '테스트'], ['001', '부자']]"
      ]
     },
     "metadata": {},
     "execution_count": 9
    }
   ],
   "source": [
    "cond"
   ]
  },
  {
   "cell_type": "code",
   "execution_count": 10,
   "metadata": {},
   "outputs": [
    {
     "output_type": "execute_result",
     "data": {
      "text/plain": [
       "[['000', '테스트'], ['001', '부자']]"
      ]
     },
     "metadata": {},
     "execution_count": 10
    }
   ],
   "source": [
    "s = Dao().request_condition_list()\n",
    "s"
   ]
  },
  {
   "cell_type": "code",
   "execution_count": 11,
   "metadata": {},
   "outputs": [
    {
     "output_type": "stream",
     "name": "stdout",
     "text": [
      "<entity.stock.Stock object at 0x0580D1B0>\n",
      "<entity.stock.Stock object at 0x0580D1B0>\n",
      "<entity.stock.Stock object at 0x0580D770>\n",
      "<entity.stock.Stock object at 0x0580D1B0>\n",
      "<entity.stock.Stock object at 0x0580D770>\n",
      "<entity.stock.Stock object at 0x0580D1B0>\n",
      "<entity.stock.Stock object at 0x0580D770>\n",
      "<entity.stock.Stock object at 0x0580D770>\n",
      "<entity.stock.Stock object at 0x0580D1B0>\n",
      "<entity.stock.Stock object at 0x0580D1B0>\n",
      "<entity.stock.Stock object at 0x0580D770>\n",
      "<entity.stock.Stock object at 0x0580D1B0>\n",
      "<entity.stock.Stock object at 0x0580D770>\n",
      "<entity.stock.Stock object at 0x0580D1B0>\n",
      "<entity.stock.Stock object at 0x0580D770>\n",
      "<entity.stock.Stock object at 0x0580D770>\n",
      "<entity.stock.Stock object at 0x0580D1B0>\n",
      "<entity.stock.Stock object at 0x0580D770>\n",
      "<entity.stock.Stock object at 0x0580D1B0>\n",
      "<entity.stock.Stock object at 0x0580D770>\n",
      "<entity.stock.Stock object at 0x0580D1B0>\n",
      "<entity.stock.Stock object at 0x0580D770>\n",
      "<entity.stock.Stock object at 0x0580D1B0>\n",
      "<entity.stock.Stock object at 0x0580D770>\n",
      "<entity.stock.Stock object at 0x0580D1B0>\n",
      "<entity.stock.Stock object at 0x0580D1B0>\n",
      "<entity.stock.Stock object at 0x0580D770>\n",
      "<entity.stock.Stock object at 0x0580D1B0>\n",
      "<entity.stock.Stock object at 0x0580D770>\n",
      "<entity.stock.Stock object at 0x0580D1B0>\n",
      "<entity.stock.Stock object at 0x0580D770>\n",
      "<entity.stock.Stock object at 0x0580D1B0>\n",
      "<entity.stock.Stock object at 0x0580D770>\n",
      "<entity.stock.Stock object at 0x0580D1B0>\n",
      "<entity.stock.Stock object at 0x0580D770>\n",
      "<entity.stock.Stock object at 0x0580D1B0>\n",
      "<entity.stock.Stock object at 0x0580D770>\n",
      "<entity.stock.Stock object at 0x0580D1B0>\n",
      "<entity.stock.Stock object at 0x0580D770>\n",
      "<entity.stock.Stock object at 0x0580D1B0>\n"
     ]
    }
   ],
   "source": [
    "start_time = time.time()\n",
    "for i in range(40):\n",
    "    print(Dao().request_stock_instance(\"009540\"))\n",
    "    time.sleep(0.168)\n",
    "end_time = time.time()\n",
    "    "
   ]
  },
  {
   "cell_type": "code",
   "execution_count": 12,
   "metadata": {},
   "outputs": [
    {
     "output_type": "execute_result",
     "data": {
      "text/plain": [
       "8.823493957519531"
      ]
     },
     "metadata": {},
     "execution_count": 12
    }
   ],
   "source": [
    "delta = end_time-start_time\n",
    "delta"
   ]
  },
  {
   "cell_type": "code",
   "execution_count": 13,
   "metadata": {},
   "outputs": [
    {
     "output_type": "stream",
     "name": "stdout",
     "text": [
      "<entity.stock.Stock object at 0x0C9C2150>\n",
      "<entity.stock.Stock object at 0x0C9C2150>\n",
      "<entity.stock.Stock object at 0x0C9C2DB0>\n",
      "<entity.stock.Stock object at 0x0C9C2150>\n",
      "<entity.stock.Stock object at 0x0C9C2DB0>\n",
      "<entity.stock.Stock object at 0x0C9C2150>\n",
      "<entity.stock.Stock object at 0x0C9C2DB0>\n",
      "<entity.stock.Stock object at 0x0C9C2150>\n",
      "<entity.stock.Stock object at 0x0C9C2DB0>\n",
      "<entity.stock.Stock object at 0x0C9C2150>\n",
      "<entity.stock.Stock object at 0x0C9C2DB0>\n",
      "<entity.stock.Stock object at 0x0C9C2150>\n",
      "<entity.stock.Stock object at 0x0C9C2DB0>\n",
      "<entity.stock.Stock object at 0x0C9C2150>\n",
      "<entity.stock.Stock object at 0x0C9C2150>\n",
      "<entity.stock.Stock object at 0x0C9C2DB0>\n",
      "<entity.stock.Stock object at 0x0C9C2150>\n",
      "<entity.stock.Stock object at 0x0C9C2DB0>\n",
      "<entity.stock.Stock object at 0x0C9C2150>\n",
      "<entity.stock.Stock object at 0x0C9C2DB0>\n",
      "<entity.stock.Stock object at 0x0C9C2150>\n",
      "<entity.stock.Stock object at 0x0C9C2DB0>\n",
      "<entity.stock.Stock object at 0x0C9C2150>\n",
      "<entity.stock.Stock object at 0x0C9C2DB0>\n",
      "<entity.stock.Stock object at 0x0C9C2150>\n",
      "<entity.stock.Stock object at 0x0C9C2DB0>\n",
      "<entity.stock.Stock object at 0x0C9C2150>\n",
      "<entity.stock.Stock object at 0x0C9C2DB0>\n",
      "<entity.stock.Stock object at 0x0C9C2150>\n",
      "<entity.stock.Stock object at 0x0C9C2DB0>\n",
      "<entity.stock.Stock object at 0x0C9C2150>\n",
      "<entity.stock.Stock object at 0x0C9C2DB0>\n",
      "<entity.stock.Stock object at 0x0C9C2150>\n",
      "<entity.stock.Stock object at 0x0C9C2DB0>\n",
      "<entity.stock.Stock object at 0x0C9C2150>\n",
      "<entity.stock.Stock object at 0x0C9C2DB0>\n",
      "<entity.stock.Stock object at 0x0C9C2150>\n",
      "<entity.stock.Stock object at 0x0C9C2DB0>\n",
      "<entity.stock.Stock object at 0x0C9C2150>\n",
      "<entity.stock.Stock object at 0x0C9C2DB0>\n"
     ]
    }
   ],
   "source": [
    "start_time = time.time()\n",
    "for i in range(40):\n",
    "    print(Dao().request_stock_instance(\"009540\"))\n",
    "    time.sleep(0.2)\n",
    "end_time = time.time()"
   ]
  },
  {
   "cell_type": "code",
   "execution_count": 14,
   "metadata": {},
   "outputs": [
    {
     "output_type": "execute_result",
     "data": {
      "text/plain": [
       "10.201381921768188"
      ]
     },
     "metadata": {},
     "execution_count": 14
    }
   ],
   "source": [
    "delta = end_time-start_time\n",
    "delta"
   ]
  },
  {
   "cell_type": "code",
   "execution_count": 15,
   "metadata": {},
   "outputs": [],
   "source": [
    "hell: Dao"
   ]
  },
  {
   "cell_type": "code",
   "execution_count": null,
   "metadata": {},
   "outputs": [],
   "source": []
  }
 ]
}