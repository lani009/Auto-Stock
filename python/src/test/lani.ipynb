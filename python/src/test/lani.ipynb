{
 "metadata": {
  "language_info": {
   "codemirror_mode": {
    "name": "ipython",
    "version": 3
   },
   "file_extension": ".py",
   "mimetype": "text/x-python",
   "name": "python",
   "nbconvert_exporter": "python",
   "pygments_lexer": "ipython3",
   "version": "3.7.9-final"
  },
  "orig_nbformat": 2,
  "kernelspec": {
   "name": "stock_37_32",
   "display_name": "stock_jupyter_32",
   "language": "python"
  }
 },
 "nbformat": 4,
 "nbformat_minor": 2,
 "cells": [
  {
   "cell_type": "code",
   "execution_count": 1,
   "metadata": {},
   "outputs": [],
   "source": [
    "import sys\n",
    "sys.path.append(\"../\")"
   ]
  },
  {
   "cell_type": "code",
   "execution_count": 2,
   "metadata": {},
   "outputs": [
    {
     "output_type": "error",
     "ename": "ModuleNotFoundError",
     "evalue": "No module named 'python'",
     "traceback": [
      "\u001b[1;31m---------------------------------------------------------------------------\u001b[0m",
      "\u001b[1;31mModuleNotFoundError\u001b[0m                       Traceback (most recent call last)",
      "\u001b[1;32m<ipython-input-2-232c3ad4877a>\u001b[0m in \u001b[0;36m<module>\u001b[1;34m\u001b[0m\n\u001b[1;32m----> 1\u001b[1;33m \u001b[1;32mfrom\u001b[0m \u001b[0mrequest\u001b[0m\u001b[1;33m.\u001b[0m\u001b[0mdao\u001b[0m \u001b[1;32mimport\u001b[0m \u001b[0mDao\u001b[0m\u001b[1;33m\u001b[0m\u001b[1;33m\u001b[0m\u001b[0m\n\u001b[0m\u001b[0;32m      2\u001b[0m \u001b[1;32mfrom\u001b[0m \u001b[0mPyQt5\u001b[0m\u001b[1;33m.\u001b[0m\u001b[0mQtWidgets\u001b[0m \u001b[1;32mimport\u001b[0m \u001b[0mQApplication\u001b[0m\u001b[1;33m\u001b[0m\u001b[1;33m\u001b[0m\u001b[0m\n\u001b[0;32m      3\u001b[0m \u001b[1;32mfrom\u001b[0m \u001b[0mpandas\u001b[0m \u001b[1;32mimport\u001b[0m \u001b[0mDataFrame\u001b[0m\u001b[1;33m\u001b[0m\u001b[1;33m\u001b[0m\u001b[0m\n\u001b[0;32m      4\u001b[0m \u001b[1;32mfrom\u001b[0m \u001b[0mentity\u001b[0m\u001b[1;33m.\u001b[0m\u001b[0mstock\u001b[0m \u001b[1;32mimport\u001b[0m \u001b[0mStock\u001b[0m\u001b[1;33m\u001b[0m\u001b[1;33m\u001b[0m\u001b[0m\n\u001b[0;32m      5\u001b[0m \u001b[1;32mfrom\u001b[0m \u001b[0mrequest\u001b[0m\u001b[1;33m.\u001b[0m\u001b[0menum\u001b[0m\u001b[1;33m.\u001b[0m\u001b[0mstockEnum\u001b[0m \u001b[1;32mimport\u001b[0m \u001b[0mTrCode\u001b[0m\u001b[1;33m\u001b[0m\u001b[1;33m\u001b[0m\u001b[0m\n",
      "\u001b[1;32md:\\git\\Auto-Stock\\python\\src\\request\\dao.py\u001b[0m in \u001b[0;36m<module>\u001b[1;34m\u001b[0m\n\u001b[0;32m      8\u001b[0m \u001b[1;32mfrom\u001b[0m \u001b[0mrequest\u001b[0m\u001b[1;33m.\u001b[0m\u001b[0menum\u001b[0m\u001b[1;33m.\u001b[0m\u001b[0mstockEnum\u001b[0m \u001b[1;32mimport\u001b[0m \u001b[0mTrCode\u001b[0m\u001b[1;33m\u001b[0m\u001b[1;33m\u001b[0m\u001b[0m\n\u001b[0;32m      9\u001b[0m \u001b[1;32mfrom\u001b[0m \u001b[0mentity\u001b[0m\u001b[1;33m.\u001b[0m\u001b[0mstock\u001b[0m \u001b[1;32mimport\u001b[0m \u001b[0mStock\u001b[0m\u001b[1;33m\u001b[0m\u001b[1;33m\u001b[0m\u001b[0m\n\u001b[1;32m---> 10\u001b[1;33m \u001b[1;32mfrom\u001b[0m \u001b[0mrequest\u001b[0m\u001b[1;33m.\u001b[0m\u001b[0mkiwoom\u001b[0m \u001b[1;32mimport\u001b[0m \u001b[0mKiwoom\u001b[0m\u001b[1;33m\u001b[0m\u001b[1;33m\u001b[0m\u001b[0m\n\u001b[0m\u001b[0;32m     11\u001b[0m \u001b[1;32mfrom\u001b[0m \u001b[0mdatetime\u001b[0m \u001b[1;32mimport\u001b[0m \u001b[0mdatetime\u001b[0m\u001b[1;33m\u001b[0m\u001b[1;33m\u001b[0m\u001b[0m\n\u001b[0;32m     12\u001b[0m \u001b[1;33m\u001b[0m\u001b[0m\n",
      "\u001b[1;32md:\\git\\Auto-Stock\\python\\src\\request\\kiwoom.py\u001b[0m in \u001b[0;36m<module>\u001b[1;34m\u001b[0m\n\u001b[1;32m----> 1\u001b[1;33m \u001b[1;32mfrom\u001b[0m \u001b[0mpython\u001b[0m\u001b[1;33m.\u001b[0m\u001b[0msrc\u001b[0m\u001b[1;33m.\u001b[0m\u001b[0mrequest\u001b[0m\u001b[1;33m.\u001b[0m\u001b[0menum\u001b[0m\u001b[1;33m.\u001b[0m\u001b[0mstockEnum\u001b[0m \u001b[1;32mimport\u001b[0m \u001b[0mRealTimeDataEnum\u001b[0m\u001b[1;33m\u001b[0m\u001b[1;33m\u001b[0m\u001b[0m\n\u001b[0m\u001b[0;32m      2\u001b[0m \u001b[1;32mfrom\u001b[0m \u001b[0mtyping\u001b[0m \u001b[1;32mimport\u001b[0m \u001b[0mCallable\u001b[0m\u001b[1;33m,\u001b[0m \u001b[0mDict\u001b[0m\u001b[1;33m,\u001b[0m \u001b[0mList\u001b[0m\u001b[1;33m,\u001b[0m \u001b[0mTuple\u001b[0m\u001b[1;33m\u001b[0m\u001b[1;33m\u001b[0m\u001b[0m\n\u001b[0;32m      3\u001b[0m \u001b[1;32mfrom\u001b[0m \u001b[0mPyQt5\u001b[0m\u001b[1;33m.\u001b[0m\u001b[0mQAxContainer\u001b[0m \u001b[1;32mimport\u001b[0m \u001b[0mQAxWidget\u001b[0m\u001b[1;33m\u001b[0m\u001b[1;33m\u001b[0m\u001b[0m\n\u001b[0;32m      4\u001b[0m \u001b[1;32mfrom\u001b[0m \u001b[0mPyQt5\u001b[0m\u001b[1;33m.\u001b[0m\u001b[0mQtCore\u001b[0m \u001b[1;32mimport\u001b[0m \u001b[0mQEventLoop\u001b[0m\u001b[1;33m\u001b[0m\u001b[1;33m\u001b[0m\u001b[0m\n\u001b[0;32m      5\u001b[0m \u001b[1;33m\u001b[0m\u001b[0m\n",
      "\u001b[1;31mModuleNotFoundError\u001b[0m: No module named 'python'"
     ]
    }
   ],
   "source": [
    "from request.dao import Dao\n",
    "from PyQt5.QtWidgets import QApplication\n",
    "from pandas import DataFrame\n",
    "from entity.stock import Stock\n",
    "from request.enum.stockEnum import TrCode\n",
    "import time"
   ]
  },
  {
   "cell_type": "code",
   "execution_count": 3,
   "metadata": {},
   "outputs": [],
   "source": [
    "app = QApplication([])"
   ]
  },
  {
   "cell_type": "code",
   "execution_count": 4,
   "metadata": {},
   "outputs": [],
   "source": [
    "Dao().login()"
   ]
  },
  {
   "cell_type": "code",
   "execution_count": 5,
   "metadata": {},
   "outputs": [],
   "source": [
    "e_mart = Dao().request_stock_instance(\"009540\")"
   ]
  },
  {
   "cell_type": "code",
   "execution_count": 6,
   "metadata": {},
   "outputs": [
    {
     "output_type": "execute_result",
     "data": {
      "text/plain": [
       "'한국조선해양'"
      ]
     },
     "metadata": {},
     "execution_count": 6
    }
   ],
   "source": [
    "e_mart.get_str_name()"
   ]
  },
  {
   "cell_type": "code",
   "execution_count": 7,
   "metadata": {},
   "outputs": [
    {
     "output_type": "execute_result",
     "data": {
      "text/plain": [
       "'009540'"
      ]
     },
     "metadata": {},
     "execution_count": 7
    }
   ],
   "source": [
    "e_mart.get_code_name()"
   ]
  },
  {
   "cell_type": "code",
   "execution_count": 10,
   "metadata": {},
   "outputs": [],
   "source": [
    "from request.enum.stockEnum import CandleUnit"
   ]
  },
  {
   "cell_type": "code",
   "execution_count": 11,
   "metadata": {},
   "outputs": [
    {
     "output_type": "stream",
     "name": "stdout",
     "text": [
      "            20210114\n            20210113\n            20210112\n            20210111\n            20210108\n            20210107\n            20210106\n            20210105\n            20210104\n            20201230\n            20201229\n            20201228\n            20201224\n            20201223\n            20201222\n            20201221\n            20201218\n            20201217\n            20201216\n            20201215\n            20201214\n            20201211\n            20201210\n            20201209\n            20201208\n            20201207\n            20201204\n            20201203\n            20201202\n            20201201\n            20201130\n            20201127\n            20201126\n            20201125\n            20201124\n            20201123\n            20201120\n            20201119\n            20201118\n            20201117\n            20201116\n            20201113\n            20201112\n            20201111\n            20201110\n            20201109\n            20201106\n            20201105\n            20201104\n            20201103\n            20201102\n            20201030\n            20201029\n            20201028\n            20201027\n            20201026\n            20201023\n            20201022\n            20201021\n            20201020\n            20201019\n            20201016\n            20201015\n            20201014\n            20201013\n            20201012\n            20201008\n            20201007\n            20201006\n            20201005\n            20200929\n            20200928\n            20200925\n            20200924\n            20200923\n            20200922\n            20200921\n            20200918\n            20200917\n            20200916\n            20200915\n            20200914\n            20200911\n            20200910\n            20200909\n            20200908\n            20200907\n            20200904\n            20200903\n            20200902\n            20200901\n            20200831\n            20200828\n            20200827\n            20200826\n            20200825\n            20200824\n            20200821\n            20200820\n            20200819\n            20200818\n            20200814\n            20200813\n            20200812\n            20200811\n            20200810\n            20200807\n            20200806\n            20200805\n            20200804\n            20200803\n            20200731\n            20200730\n            20200729\n            20200728\n            20200727\n            20200724\n            20200723\n            20200722\n            20200721\n            20200720\n            20200717\n            20200716\n            20200715\n            20200714\n            20200713\n            20200710\n            20200709\n            20200708\n            20200707\n            20200706\n            20200703\n            20200702\n            20200701\n            20200630\n            20200629\n            20200626\n            20200625\n            20200624\n            20200623\n            20200622\n            20200619\n            20200618\n            20200617\n            20200616\n            20200615\n            20200612\n            20200611\n            20200610\n            20200609\n            20200608\n            20200605\n            20200604\n            20200603\n            20200602\n            20200601\n            20200529\n            20200528\n            20200527\n            20200526\n            20200525\n            20200522\n            20200521\n            20200520\n            20200519\n            20200518\n            20200515\n            20200514\n            20200513\n            20200512\n            20200511\n            20200508\n            20200507\n            20200506\n            20200504\n            20200429\n            20200428\n            20200427\n            20200424\n            20200423\n            20200422\n            20200421\n            20200420\n            20200417\n            20200416\n            20200414\n            20200413\n            20200410\n            20200409\n            20200408\n            20200407\n            20200406\n            20200403\n            20200402\n            20200401\n            20200331\n            20200330\n            20200327\n            20200326\n            20200325\n            20200324\n            20200323\n            20200320\n            20200319\n            20200318\n            20200317\n            20200316\n            20200313\n            20200312\n            20200311\n            20200310\n            20200309\n            20200306\n            20200305\n            20200304\n            20200303\n            20200302\n            20200228\n            20200227\n            20200226\n            20200225\n            20200224\n            20200221\n            20200220\n            20200219\n            20200218\n            20200217\n            20200214\n            20200213\n            20200212\n            20200211\n            20200210\n            20200207\n            20200206\n            20200205\n            20200204\n            20200203\n            20200131\n            20200130\n            20200129\n            20200128\n            20200123\n            20200122\n            20200121\n            20200120\n            20200117\n            20200116\n            20200115\n            20200114\n            20200113\n            20200110\n            20200109\n            20200108\n            20200107\n            20200106\n            20200103\n            20200102\n            20191230\n            20191227\n            20191226\n            20191224\n            20191223\n            20191220\n            20191219\n            20191218\n            20191217\n            20191216\n            20191213\n            20191212\n            20191211\n            20191210\n            20191209\n            20191206\n            20191205\n            20191204\n            20191203\n            20191202\n            20191129\n            20191128\n            20191127\n            20191126\n            20191125\n            20191122\n            20191121\n            20191120\n            20191119\n            20191118\n            20191115\n            20191114\n            20191113\n            20191112\n            20191111\n            20191108\n            20191107\n            20191106\n            20191105\n            20191104\n            20191101\n            20191031\n            20191030\n            20191029\n            20191028\n            20191025\n            20191024\n            20191023\n            20191022\n            20191021\n            20191018\n            20191017\n            20191016\n            20191015\n            20191014\n            20191011\n            20191010\n            20191008\n            20191007\n            20191004\n            20191002\n            20191001\n            20190930\n            20190927\n            20190926\n            20190925\n            20190924\n            20190923\n            20190920\n            20190919\n            20190918\n            20190917\n            20190916\n            20190911\n            20190910\n            20190909\n            20190906\n            20190905\n            20190904\n            20190903\n            20190902\n            20190830\n            20190829\n            20190828\n            20190827\n            20190826\n            20190823\n            20190822\n            20190821\n            20190820\n            20190819\n            20190816\n            20190814\n            20190813\n            20190812\n            20190809\n            20190808\n            20190807\n            20190806\n            20190805\n            20190802\n            20190801\n            20190731\n            20190730\n            20190729\n            20190726\n            20190725\n            20190724\n            20190723\n            20190722\n            20190719\n            20190718\n            20190717\n            20190716\n            20190715\n            20190712\n            20190711\n            20190710\n            20190709\n            20190708\n            20190705\n            20190704\n            20190703\n            20190702\n            20190701\n            20190628\n            20190627\n            20190626\n            20190625\n            20190624\n            20190621\n            20190620\n            20190619\n            20190618\n            20190617\n            20190614\n            20190613\n            20190612\n            20190611\n            20190610\n            20190607\n            20190605\n            20190604\n            20190603\n            20190531\n            20190530\n            20190529\n            20190528\n            20190527\n            20190524\n            20190523\n            20190522\n            20190521\n            20190520\n            20190517\n            20190516\n            20190515\n            20190514\n            20190513\n            20190510\n            20190509\n            20190508\n            20190507\n            20190503\n            20190502\n            20190430\n            20190429\n            20190426\n            20190425\n            20190424\n            20190423\n            20190422\n            20190419\n            20190418\n            20190417\n            20190416\n            20190415\n            20190412\n            20190411\n            20190410\n            20190409\n            20190408\n            20190405\n            20190404\n            20190403\n            20190402\n            20190401\n            20190329\n            20190328\n            20190327\n            20190326\n            20190325\n            20190322\n            20190321\n            20190320\n            20190319\n            20190318\n            20190315\n            20190314\n            20190313\n            20190312\n            20190311\n            20190308\n            20190307\n            20190306\n            20190305\n            20190304\n            20190228\n            20190227\n            20190226\n            20190225\n            20190222\n            20190221\n            20190220\n            20190219\n            20190218\n            20190215\n            20190214\n            20190213\n            20190212\n            20190211\n            20190208\n            20190207\n            20190201\n            20190131\n            20190130\n            20190129\n            20190128\n            20190125\n            20190124\n            20190123\n            20190122\n            20190121\n            20190118\n            20190117\n            20190116\n            20190115\n            20190114\n            20190111\n            20190110\n            20190109\n            20190108\n            20190107\n"
     ]
    }
   ],
   "source": [
    "# today_datetime = Dao().get_today_date()\n",
    "\n",
    "data = Dao().request_candle_data(e_mart, CandleUnit.DAY, 2)"
   ]
  },
  {
   "cell_type": "code",
   "execution_count": null,
   "metadata": {},
   "outputs": [],
   "source": []
  }
 ]
}